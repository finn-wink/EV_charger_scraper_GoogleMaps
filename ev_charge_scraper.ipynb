{
 "cells": [
  {
   "cell_type": "code",
   "execution_count": 18,
   "metadata": {},
   "outputs": [],
   "source": [
    "import json\n",
    "import time\n",
    "import requests\n",
    "import pandas as pd\n",
    "import geopandas as gpd"
   ]
  },
  {
   "cell_type": "code",
   "execution_count": null,
   "metadata": {},
   "outputs": [],
   "source": [
    "#Read PC4 file in order to create centroid points to loop over\n",
    "pc4 = gpd.read_file('GIS\\PC4_2020_NL.shp')\n",
    "df = gpd.GeoDataFrame(data=pc4['PC4'], geometry=pc4['geometry'].centroid).to_crs(4326)\n",
    "\n",
    "coord_list = [(x,y) for x,y in zip(df['geometry'].x , df['geometry'].y)]\n",
    "\n",
    "#Initial Parameters\n",
    "keywords = \"ev charger\" #Search term in Google Maps\n",
    "api_key = \"\" #Insert Google Maps API key\n",
    "\n",
    "final_data = []\n",
    "count = 0\n",
    "\n",
    "for a in coord_list:\n",
    "\n",
    "    coordinate = str(a[1])+\"%2C\"+str(a[0])\n",
    "    #Pulls data from Google Maps based on coordinate grid and pushes data into final_data list final_data = []for coordinate in coordinates:   \n",
    "    #The radius of extraction can be adjusted in the link\n",
    "    url = f\"https://maps.googleapis.com/maps/api/place/nearbysearch/json?location={coordinate}&radius=15000&keyword={keywords}&key={api_key}\"   \n",
    "    \n",
    "    while True:     \n",
    "        print(url)      \n",
    "        respon = requests.get(url)          \n",
    "        jj = json.loads(respon.text)        \n",
    "        results = jj['results']   \n",
    "        for result in results:          \n",
    "            name = result['name']          \n",
    "            place_id = result ['place_id']          \n",
    "            lat = result['geometry']['location']['lat']          \n",
    "            lng = result['geometry']['location']['lng']             \n",
    "            rating = result['rating']          \n",
    "            types = result['types']          \n",
    "            vicinity = result['vicinity']          \n",
    "            business_status = result['business_status']            \n",
    "            data = [name, place_id, lat, lng, rating, types, vicinity, business_status]          \n",
    "            final_data.append(data)           \n",
    "\n",
    "            time.sleep(1) \n",
    "\n",
    "        if 'next_page_token' not in jj:    \n",
    "                break   \n",
    "        else:           \n",
    "                url = f\"https://maps.googleapis.com/maps/api/place/nearbysearch/json?pagetoken={jj['next_page_token']}&key={api_key}\"\n",
    "\n",
    "    print(str(count)+' done')\n",
    "    count +=1\n",
    "    time.sleep(5)\n",
    "\n",
    "#Generated data is parsed into a Dataframe form\n",
    "labels = ['Place Name','Place ID', 'Latitude', 'Longitude', 'na', 'Types', 'Vicinity', 'Business Status']\n",
    "ev_df = pd.DataFrame.from_records(final_data,columns=labels)\n",
    "\n",
    "#Drop duplicate rows since PC4 searches overlap\n",
    "ev_clean_df = ev_df.drop_duplicates(subset=\"Place ID\")\n",
    "\n",
    "ev_clean_df.to_csv('')"
   ]
  },
  {
   "cell_type": "code",
   "execution_count": null,
   "metadata": {},
   "outputs": [],
   "source": [
    "#Create GeoDF using lat, lon to create Point features\n",
    "gdf = gpd.GeoDataFrame(ev_clean_df, geometry=gpd.points_from_xy(ev_clean_df.Longitude, ev_clean_df.Latitude))\n",
    "gdf.drop('Types', axis=1, inplace=True)\n",
    "gdf.to_file('', type='GPKG')"
   ]
  }
 ],
 "metadata": {
  "kernelspec": {
   "display_name": "finnenv",
   "language": "python",
   "name": "python3"
  },
  "language_info": {
   "codemirror_mode": {
    "name": "ipython",
    "version": 3
   },
   "file_extension": ".py",
   "mimetype": "text/x-python",
   "name": "python",
   "nbconvert_exporter": "python",
   "pygments_lexer": "ipython3",
   "version": "3.10.9"
  },
  "orig_nbformat": 4,
  "vscode": {
   "interpreter": {
    "hash": "58a54c5717727661e53bdf5a64910b6e74cda911b1db4a5cd582f8358c8df8dd"
   }
  }
 },
 "nbformat": 4,
 "nbformat_minor": 2
}
